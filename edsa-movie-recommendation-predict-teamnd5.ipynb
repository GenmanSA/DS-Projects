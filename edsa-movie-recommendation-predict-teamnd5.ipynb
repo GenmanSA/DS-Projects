{
 "cells": [
  {
   "cell_type": "code",
   "execution_count": 1,
   "id": "9c439ce5",
   "metadata": {
    "_cell_guid": "b1076dfc-b9ad-4769-8c92-a6c4dae69d19",
    "_uuid": "8f2839f25d086af736a60e9eeb907d3b93b6e0e5",
    "execution": {
     "iopub.execute_input": "2023-01-21T22:21:50.250873Z",
     "iopub.status.busy": "2023-01-21T22:21:50.249815Z",
     "iopub.status.idle": "2023-01-21T22:21:51.682581Z",
     "shell.execute_reply": "2023-01-21T22:21:51.681010Z"
    },
    "papermill": {
     "duration": 1.446469,
     "end_time": "2023-01-21T22:21:51.686489",
     "exception": false,
     "start_time": "2023-01-21T22:21:50.240020",
     "status": "completed"
    },
    "tags": []
   },
   "outputs": [
    {
     "name": "stdout",
     "output_type": "stream",
     "text": [
      "/kaggle/input/edsa-movie-recommendation-predict/sample_submission.csv\n",
      "/kaggle/input/edsa-movie-recommendation-predict/movies.csv\n",
      "/kaggle/input/edsa-movie-recommendation-predict/imdb_data.csv\n",
      "/kaggle/input/edsa-movie-recommendation-predict/genome_tags.csv\n",
      "/kaggle/input/edsa-movie-recommendation-predict/genome_scores.csv\n",
      "/kaggle/input/edsa-movie-recommendation-predict/train.csv\n",
      "/kaggle/input/edsa-movie-recommendation-predict/test.csv\n",
      "/kaggle/input/edsa-movie-recommendation-predict/tags.csv\n",
      "/kaggle/input/edsa-movie-recommendation-predict/links.csv\n"
     ]
    }
   ],
   "source": [
    "# This Python 3 environment comes with many helpful analytics libraries installed\n",
    "# It is defined by the kaggle/python Docker image: https://github.com/kaggle/docker-python\n",
    "# For example, here's several helpful packages to load\n",
    "\n",
    "import numpy as np # linear algebra\n",
    "import pandas as pd # data processing, CSV file I/O (e.g. pd.read_csv)\n",
    "from scipy.sparse import csr_matrix\n",
    "from sklearn.model_selection import train_test_split\n",
    "from sklearn.metrics import mean_squared_error\n",
    "from math import sqrt\n",
    "from surprise import SVD, Reader, Dataset\n",
    "import matplotlib.pyplot as plt\n",
    "import seaborn as sns\n",
    "\n",
    "# Input data files are available in the read-only \"../input/\" directory\n",
    "# For example, running this (by clicking run or pressing Shift+Enter) will list all files under the input directory\n",
    "\n",
    "import os\n",
    "for dirname, _, filenames in os.walk('/kaggle/input'):\n",
    "    for filename in filenames:\n",
    "        print(os.path.join(dirname, filename))\n",
    "\n",
    "# You can write up to 20GB to the current directory (/kaggle/working/) that gets preserved as output when you create a version using \"Save & Run All\" \n",
    "# You can also write temporary files to /kaggle/temp/, but they won't be saved outside of the current session"
   ]
  },
  {
   "cell_type": "code",
   "execution_count": 2,
   "id": "0444ad7f",
   "metadata": {
    "execution": {
     "iopub.execute_input": "2023-01-21T22:21:51.702803Z",
     "iopub.status.busy": "2023-01-21T22:21:51.702317Z",
     "iopub.status.idle": "2023-01-21T22:22:05.144544Z",
     "shell.execute_reply": "2023-01-21T22:22:05.143097Z"
    },
    "papermill": {
     "duration": 13.453398,
     "end_time": "2023-01-21T22:22:05.147306",
     "exception": false,
     "start_time": "2023-01-21T22:21:51.693908",
     "status": "completed"
    },
    "tags": []
   },
   "outputs": [
    {
     "name": "stdout",
     "output_type": "stream",
     "text": [
      "Collecting surprise\r\n",
      "  Downloading surprise-0.1-py2.py3-none-any.whl (1.8 kB)\r\n",
      "Requirement already satisfied: scikit-surprise in /opt/conda/lib/python3.7/site-packages (from surprise) (1.1.1)\r\n",
      "Requirement already satisfied: scipy>=1.0.0 in /opt/conda/lib/python3.7/site-packages (from scikit-surprise->surprise) (1.7.3)\r\n",
      "Requirement already satisfied: numpy>=1.11.2 in /opt/conda/lib/python3.7/site-packages (from scikit-surprise->surprise) (1.21.6)\r\n",
      "Requirement already satisfied: six>=1.10.0 in /opt/conda/lib/python3.7/site-packages (from scikit-surprise->surprise) (1.15.0)\r\n",
      "Requirement already satisfied: joblib>=0.11 in /opt/conda/lib/python3.7/site-packages (from scikit-surprise->surprise) (1.0.1)\r\n",
      "Installing collected packages: surprise\r\n",
      "Successfully installed surprise-0.1\r\n",
      "\u001b[33mWARNING: Running pip as the 'root' user can result in broken permissions and conflicting behaviour with the system package manager. It is recommended to use a virtual environment instead: https://pip.pypa.io/warnings/venv\u001b[0m\u001b[33m\r\n",
      "\u001b[0m"
     ]
    }
   ],
   "source": [
    "!pip install surprise"
   ]
  },
  {
   "cell_type": "code",
   "execution_count": 3,
   "id": "6199fe9f",
   "metadata": {
    "execution": {
     "iopub.execute_input": "2023-01-21T22:22:05.163875Z",
     "iopub.status.busy": "2023-01-21T22:22:05.163131Z",
     "iopub.status.idle": "2023-01-21T22:22:05.168365Z",
     "shell.execute_reply": "2023-01-21T22:22:05.167298Z"
    },
    "papermill": {
     "duration": 0.016451,
     "end_time": "2023-01-21T22:22:05.170786",
     "exception": false,
     "start_time": "2023-01-21T22:22:05.154335",
     "status": "completed"
    },
    "tags": []
   },
   "outputs": [],
   "source": [
    "def rmse(y_true, y_pred):\n",
    "    return sqrt(mean_squared_error(y_true, y_pred))\n"
   ]
  },
  {
   "cell_type": "markdown",
   "id": "69f0e66e",
   "metadata": {
    "papermill": {
     "duration": 0.006799,
     "end_time": "2023-01-21T22:22:05.184572",
     "exception": false,
     "start_time": "2023-01-21T22:22:05.177773",
     "status": "completed"
    },
    "tags": []
   },
   "source": [
    "Function for Data Visualization\n",
    "\n",
    "1. Visualize the distribution of ratings\n",
    "2. the distribution of ratings per user\n",
    "3. distribution of ratings per movie\n",
    "\n",
    "\n"
   ]
  },
  {
   "cell_type": "markdown",
   "id": "5201b114",
   "metadata": {
    "papermill": {
     "duration": 0.007193,
     "end_time": "2023-01-21T22:22:05.198682",
     "exception": false,
     "start_time": "2023-01-21T22:22:05.191489",
     "status": "completed"
    },
    "tags": []
   },
   "source": [
    "# 1. Data Loading"
   ]
  },
  {
   "cell_type": "code",
   "execution_count": 4,
   "id": "f75cf561",
   "metadata": {
    "execution": {
     "iopub.execute_input": "2023-01-21T22:22:05.217741Z",
     "iopub.status.busy": "2023-01-21T22:22:05.216565Z",
     "iopub.status.idle": "2023-01-21T22:22:12.566329Z",
     "shell.execute_reply": "2023-01-21T22:22:12.565166Z"
    },
    "papermill": {
     "duration": 7.362842,
     "end_time": "2023-01-21T22:22:12.569130",
     "exception": false,
     "start_time": "2023-01-21T22:22:05.206288",
     "status": "completed"
    },
    "tags": []
   },
   "outputs": [],
   "source": [
    "ratings = pd.read_csv(\"/kaggle/input/edsa-movie-recommendation-predict/train.csv\")\n",
    "movies = pd.read_csv(\"/kaggle/input/edsa-movie-recommendation-predict/movies.csv\")"
   ]
  },
  {
   "cell_type": "markdown",
   "id": "56dafe8d",
   "metadata": {
    "papermill": {
     "duration": 0.006725,
     "end_time": "2023-01-21T22:22:12.582883",
     "exception": false,
     "start_time": "2023-01-21T22:22:12.576158",
     "status": "completed"
    },
    "tags": []
   },
   "source": [
    "# 2. Data Exploration"
   ]
  },
  {
   "cell_type": "markdown",
   "id": "c725af7b",
   "metadata": {
    "papermill": {
     "duration": 0.006687,
     "end_time": "2023-01-21T22:22:12.596537",
     "exception": false,
     "start_time": "2023-01-21T22:22:12.589850",
     "status": "completed"
    },
    "tags": []
   },
   "source": [
    "Checking for missing values"
   ]
  },
  {
   "cell_type": "code",
   "execution_count": 5,
   "id": "6a4b237f",
   "metadata": {
    "execution": {
     "iopub.execute_input": "2023-01-21T22:22:12.612241Z",
     "iopub.status.busy": "2023-01-21T22:22:12.611812Z",
     "iopub.status.idle": "2023-01-21T22:22:12.692482Z",
     "shell.execute_reply": "2023-01-21T22:22:12.691047Z"
    },
    "papermill": {
     "duration": 0.094659,
     "end_time": "2023-01-21T22:22:12.698121",
     "exception": false,
     "start_time": "2023-01-21T22:22:12.603462",
     "status": "completed"
    },
    "tags": []
   },
   "outputs": [
    {
     "name": "stdout",
     "output_type": "stream",
     "text": [
      "userId       0\n",
      "movieId      0\n",
      "rating       0\n",
      "timestamp    0\n",
      "dtype: int64\n",
      "movieId    0\n",
      "title      0\n",
      "genres     0\n",
      "dtype: int64\n"
     ]
    }
   ],
   "source": [
    "print(ratings.isnull().sum())\n",
    "print(movies.isnull().sum())"
   ]
  },
  {
   "cell_type": "markdown",
   "id": "f72fd6c6",
   "metadata": {
    "papermill": {
     "duration": 0.006872,
     "end_time": "2023-01-21T22:22:12.712742",
     "exception": false,
     "start_time": "2023-01-21T22:22:12.705870",
     "status": "completed"
    },
    "tags": []
   },
   "source": [
    "Check for duplicate values"
   ]
  },
  {
   "cell_type": "code",
   "execution_count": 6,
   "id": "925a1e99",
   "metadata": {
    "execution": {
     "iopub.execute_input": "2023-01-21T22:22:12.728546Z",
     "iopub.status.busy": "2023-01-21T22:22:12.728122Z",
     "iopub.status.idle": "2023-01-21T22:22:17.662532Z",
     "shell.execute_reply": "2023-01-21T22:22:17.661097Z"
    },
    "papermill": {
     "duration": 4.945674,
     "end_time": "2023-01-21T22:22:17.665330",
     "exception": false,
     "start_time": "2023-01-21T22:22:12.719656",
     "status": "completed"
    },
    "tags": []
   },
   "outputs": [
    {
     "name": "stdout",
     "output_type": "stream",
     "text": [
      "0\n",
      "0\n"
     ]
    }
   ],
   "source": [
    "print(ratings.duplicated().sum())\n",
    "print(movies.duplicated().sum())"
   ]
  },
  {
   "cell_type": "markdown",
   "id": "89185cbe",
   "metadata": {
    "papermill": {
     "duration": 0.006918,
     "end_time": "2023-01-21T22:22:17.679668",
     "exception": false,
     "start_time": "2023-01-21T22:22:17.672750",
     "status": "completed"
    },
    "tags": []
   },
   "source": [
    "# 3. Data Cleaning"
   ]
  },
  {
   "cell_type": "code",
   "execution_count": 7,
   "id": "0a531ad2",
   "metadata": {
    "execution": {
     "iopub.execute_input": "2023-01-21T22:22:17.695740Z",
     "iopub.status.busy": "2023-01-21T22:22:17.695356Z",
     "iopub.status.idle": "2023-01-21T22:22:23.267542Z",
     "shell.execute_reply": "2023-01-21T22:22:23.266366Z"
    },
    "papermill": {
     "duration": 5.583722,
     "end_time": "2023-01-21T22:22:23.270388",
     "exception": false,
     "start_time": "2023-01-21T22:22:17.686666",
     "status": "completed"
    },
    "tags": []
   },
   "outputs": [],
   "source": [
    "ratings = ratings.dropna()\n",
    "ratings = ratings.drop_duplicates()\n",
    "movies = movies.dropna()\n",
    "movies = movies.drop_duplicates()"
   ]
  },
  {
   "cell_type": "markdown",
   "id": "195581b4",
   "metadata": {
    "papermill": {
     "duration": 0.006669,
     "end_time": "2023-01-21T22:22:23.284474",
     "exception": false,
     "start_time": "2023-01-21T22:22:23.277805",
     "status": "completed"
    },
    "tags": []
   },
   "source": [
    "checking for missing values after cleaning"
   ]
  },
  {
   "cell_type": "code",
   "execution_count": 8,
   "id": "db409c74",
   "metadata": {
    "execution": {
     "iopub.execute_input": "2023-01-21T22:22:23.300314Z",
     "iopub.status.busy": "2023-01-21T22:22:23.299757Z",
     "iopub.status.idle": "2023-01-21T22:22:23.373586Z",
     "shell.execute_reply": "2023-01-21T22:22:23.372169Z"
    },
    "papermill": {
     "duration": 0.085088,
     "end_time": "2023-01-21T22:22:23.376482",
     "exception": false,
     "start_time": "2023-01-21T22:22:23.291394",
     "status": "completed"
    },
    "tags": []
   },
   "outputs": [
    {
     "name": "stdout",
     "output_type": "stream",
     "text": [
      "userId       0\n",
      "movieId      0\n",
      "rating       0\n",
      "timestamp    0\n",
      "dtype: int64\n",
      "movieId    0\n",
      "title      0\n",
      "genres     0\n",
      "dtype: int64\n"
     ]
    }
   ],
   "source": [
    "print(ratings.isnull().sum())\n",
    "print(movies.isnull().sum())"
   ]
  },
  {
   "cell_type": "markdown",
   "id": "6124b28a",
   "metadata": {
    "papermill": {
     "duration": 0.006752,
     "end_time": "2023-01-21T22:22:23.390361",
     "exception": false,
     "start_time": "2023-01-21T22:22:23.383609",
     "status": "completed"
    },
    "tags": []
   },
   "source": [
    "Checking for duplicate values after cleaning"
   ]
  },
  {
   "cell_type": "code",
   "execution_count": 9,
   "id": "7ec9829c",
   "metadata": {
    "execution": {
     "iopub.execute_input": "2023-01-21T22:22:23.406319Z",
     "iopub.status.busy": "2023-01-21T22:22:23.405890Z",
     "iopub.status.idle": "2023-01-21T22:22:28.130628Z",
     "shell.execute_reply": "2023-01-21T22:22:28.129488Z"
    },
    "papermill": {
     "duration": 4.735967,
     "end_time": "2023-01-21T22:22:28.133312",
     "exception": false,
     "start_time": "2023-01-21T22:22:23.397345",
     "status": "completed"
    },
    "tags": []
   },
   "outputs": [
    {
     "name": "stdout",
     "output_type": "stream",
     "text": [
      "0\n",
      "0\n"
     ]
    }
   ],
   "source": [
    "print(ratings.duplicated().sum())\n",
    "print(movies.duplicated().sum())"
   ]
  },
  {
   "cell_type": "code",
   "execution_count": 10,
   "id": "6fcbe1f6",
   "metadata": {
    "execution": {
     "iopub.execute_input": "2023-01-21T22:22:28.150626Z",
     "iopub.status.busy": "2023-01-21T22:22:28.150250Z",
     "iopub.status.idle": "2023-01-21T22:22:29.676680Z",
     "shell.execute_reply": "2023-01-21T22:22:29.675751Z"
    },
    "papermill": {
     "duration": 1.538461,
     "end_time": "2023-01-21T22:22:29.679449",
     "exception": false,
     "start_time": "2023-01-21T22:22:28.140988",
     "status": "completed"
    },
    "tags": []
   },
   "outputs": [
    {
     "data": {
      "image/png": "[encoded data removed]",
      "text/plain": [
       "<Figure size 432x288 with 1 Axes>"
      ]
     },
     "metadata": {
      "needs_background": "light"
     },
     "output_type": "display_data"
    }
   ],
   "source": [
    "# Visualize the distribution of ratings\n",
    "sns.countplot(data=ratings, x='rating')\n",
    "plt.xlabel('Rating')\n",
    "plt.ylabel('Count')\n",
    "plt.title('Distribution of Ratings')\n",
    "plt.show()"
   ]
  },
  {
   "cell_type": "markdown",
   "id": "857017ce",
   "metadata": {
    "papermill": {
     "duration": 0.007077,
     "end_time": "2023-01-21T22:22:29.694159",
     "exception": false,
     "start_time": "2023-01-21T22:22:29.687082",
     "status": "completed"
    },
    "tags": []
   },
   "source": [
    "Defining the rating scale"
   ]
  },
  {
   "cell_type": "code",
   "execution_count": 11,
   "id": "06f20a93",
   "metadata": {
    "execution": {
     "iopub.execute_input": "2023-01-21T22:22:29.710622Z",
     "iopub.status.busy": "2023-01-21T22:22:29.710216Z",
     "iopub.status.idle": "2023-01-21T22:22:29.715835Z",
     "shell.execute_reply": "2023-01-21T22:22:29.714525Z"
    },
    "papermill": {
     "duration": 0.016994,
     "end_time": "2023-01-21T22:22:29.718512",
     "exception": false,
     "start_time": "2023-01-21T22:22:29.701518",
     "status": "completed"
    },
    "tags": []
   },
   "outputs": [],
   "source": [
    "reader = Reader(rating_scale=(0.5, 5.0))"
   ]
  },
  {
   "cell_type": "code",
   "execution_count": 12,
   "id": "0a2a5c1c",
   "metadata": {
    "execution": {
     "iopub.execute_input": "2023-01-21T22:22:29.737076Z",
     "iopub.status.busy": "2023-01-21T22:22:29.736622Z",
     "iopub.status.idle": "2023-01-21T22:22:42.726441Z",
     "shell.execute_reply": "2023-01-21T22:22:42.725246Z"
    },
    "papermill": {
     "duration": 13.002429,
     "end_time": "2023-01-21T22:22:42.729262",
     "exception": false,
     "start_time": "2023-01-21T22:22:29.726833",
     "status": "completed"
    },
    "tags": []
   },
   "outputs": [],
   "source": [
    "data = Dataset.load_from_df(ratings[['userId', 'movieId', 'rating']], reader=reader)"
   ]
  },
  {
   "cell_type": "markdown",
   "id": "e6281ae4",
   "metadata": {
    "papermill": {
     "duration": 0.007252,
     "end_time": "2023-01-21T22:22:42.744107",
     "exception": false,
     "start_time": "2023-01-21T22:22:42.736855",
     "status": "completed"
    },
    "tags": []
   },
   "source": [
    "# 4. Data Preparation"
   ]
  },
  {
   "cell_type": "code",
   "execution_count": 13,
   "id": "ff400fa8",
   "metadata": {
    "execution": {
     "iopub.execute_input": "2023-01-21T22:22:42.760781Z",
     "iopub.status.busy": "2023-01-21T22:22:42.760350Z",
     "iopub.status.idle": "2023-01-21T22:22:54.736793Z",
     "shell.execute_reply": "2023-01-21T22:22:54.735629Z"
    },
    "papermill": {
     "duration": 11.988133,
     "end_time": "2023-01-21T22:22:54.739586",
     "exception": false,
     "start_time": "2023-01-21T22:22:42.751453",
     "status": "completed"
    },
    "tags": []
   },
   "outputs": [],
   "source": [
    "train, test = train_test_split(ratings, test_size=0.2, random_state=42)\n",
    "reader = Reader(rating_scale=(1, 5))\n",
    "data_train = Dataset.load_from_df(train[['userId', 'movieId', 'rating']], reader)\n",
    "\n",
    "\n",
    "\n"
   ]
  },
  {
   "cell_type": "markdown",
   "id": "ff3aa16c",
   "metadata": {
    "papermill": {
     "duration": 0.007081,
     "end_time": "2023-01-21T22:22:54.754308",
     "exception": false,
     "start_time": "2023-01-21T22:22:54.747227",
     "status": "completed"
    },
    "tags": []
   },
   "source": [
    "# 5. Modeling"
   ]
  },
  {
   "cell_type": "code",
   "execution_count": 14,
   "id": "e518664d",
   "metadata": {
    "execution": {
     "iopub.execute_input": "2023-01-21T22:22:54.771037Z",
     "iopub.status.busy": "2023-01-21T22:22:54.770589Z",
     "iopub.status.idle": "2023-01-21T22:22:54.775713Z",
     "shell.execute_reply": "2023-01-21T22:22:54.774528Z"
    },
    "papermill": {
     "duration": 0.016377,
     "end_time": "2023-01-21T22:22:54.778234",
     "exception": false,
     "start_time": "2023-01-21T22:22:54.761857",
     "status": "completed"
    },
    "tags": []
   },
   "outputs": [],
   "source": [
    "algo = SVD()"
   ]
  },
  {
   "cell_type": "code",
   "execution_count": 15,
   "id": "5240a33e",
   "metadata": {
    "execution": {
     "iopub.execute_input": "2023-01-21T22:22:54.795212Z",
     "iopub.status.busy": "2023-01-21T22:22:54.794664Z",
     "iopub.status.idle": "2023-01-21T22:33:27.293339Z",
     "shell.execute_reply": "2023-01-21T22:33:27.291769Z"
    },
    "papermill": {
     "duration": 632.518462,
     "end_time": "2023-01-21T22:33:27.304353",
     "exception": false,
     "start_time": "2023-01-21T22:22:54.785891",
     "status": "completed"
    },
    "tags": []
   },
   "outputs": [
    {
     "data": {
      "text/plain": [
       "<surprise.prediction_algorithms.matrix_factorization.SVD at 0x7f06589f85d0>"
      ]
     },
     "execution_count": 15,
     "metadata": {},
     "output_type": "execute_result"
    }
   ],
   "source": [
    "algo.fit(data_train.build_full_trainset())"
   ]
  },
  {
   "cell_type": "markdown",
   "id": "50c29497",
   "metadata": {
    "papermill": {
     "duration": 0.007554,
     "end_time": "2023-01-21T22:33:27.319760",
     "exception": false,
     "start_time": "2023-01-21T22:33:27.312206",
     "status": "completed"
    },
    "tags": []
   },
   "source": [
    "# 6. Evaluation"
   ]
  },
  {
   "cell_type": "code",
   "execution_count": 16,
   "id": "d902d837",
   "metadata": {
    "execution": {
     "iopub.execute_input": "2023-01-21T22:33:27.337291Z",
     "iopub.status.busy": "2023-01-21T22:33:27.336869Z",
     "iopub.status.idle": "2023-01-21T22:42:47.935095Z",
     "shell.execute_reply": "2023-01-21T22:42:47.933880Z"
    },
    "papermill": {
     "duration": 560.610587,
     "end_time": "2023-01-21T22:42:47.937870",
     "exception": false,
     "start_time": "2023-01-21T22:33:27.327283",
     "status": "completed"
    },
    "tags": []
   },
   "outputs": [],
   "source": [
    "y_pred = [algo.predict(test.iloc[i]['userId'], test.iloc[i]['movieId']).est for i in range(len(test))]\n"
   ]
  },
  {
   "cell_type": "markdown",
   "id": "26733784",
   "metadata": {
    "papermill": {
     "duration": 0.008144,
     "end_time": "2023-01-21T22:42:47.953996",
     "exception": false,
     "start_time": "2023-01-21T22:42:47.945852",
     "status": "completed"
    },
    "tags": []
   },
   "source": [
    "Calculate the RMSE"
   ]
  },
  {
   "cell_type": "code",
   "execution_count": 17,
   "id": "af458a42",
   "metadata": {
    "execution": {
     "iopub.execute_input": "2023-01-21T22:42:47.971977Z",
     "iopub.status.busy": "2023-01-21T22:42:47.971504Z",
     "iopub.status.idle": "2023-01-21T22:42:48.112872Z",
     "shell.execute_reply": "2023-01-21T22:42:48.111227Z"
    },
    "papermill": {
     "duration": 0.153478,
     "end_time": "2023-01-21T22:42:48.115426",
     "exception": false,
     "start_time": "2023-01-21T22:42:47.961948",
     "status": "completed"
    },
    "tags": []
   },
   "outputs": [
    {
     "name": "stdout",
     "output_type": "stream",
     "text": [
      "RMSE:  0.8337645356664979\n"
     ]
    }
   ],
   "source": [
    "y_true = test['rating']\n",
    "print(\"RMSE: \", rmse(y_true, y_pred))"
   ]
  }
 ],
 "metadata": {
  "kernelspec": {
   "display_name": "Python 3",
   "language": "python",
   "name": "python3"
  },
  "language_info": {
   "codemirror_mode": {
    "name": "ipython",
    "version": 3
   },
   "file_extension": ".py",
   "mimetype": "text/x-python",
   "name": "python",
   "nbconvert_exporter": "python",
   "pygments_lexer": "ipython3",
   "version": "3.7.12"
  },
  "papermill": {
   "default_parameters": {},
   "duration": 1270.23995,
   "end_time": "2023-01-21T22:42:51.048939",
   "environment_variables": {},
   "exception": null,
   "input_path": "__notebook__.ipynb",
   "output_path": "__notebook__.ipynb",
   "parameters": {},
   "start_time": "2023-01-21T22:21:40.808989",
   "version": "2.3.4"
  }
 },
 "nbformat": 4,
 "nbformat_minor": 5
}
